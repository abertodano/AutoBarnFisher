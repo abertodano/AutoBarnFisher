{
 "cells": [
  {
   "cell_type": "code",
   "execution_count": null,
   "id": "0526ebd1",
   "metadata": {},
   "outputs": [],
   "source": [
    "%Script PseudoCode%\n",
    "\n",
    "On trigger_start_key:\n",
    "    hold W + Shift\n",
    "    loop:\n",
    "        move mouse small amount\n",
    "        press right click\n",
    "        wait 500 ms (until first splashing goes away)\n",
    "        repeat every 50 ms: \n",
    "            screenshot subtitle text\n",
    "            if screeenshot.text includes \"splashing\": +\n",
    "                right click\n",
    "                end repeat\n",
    "            else:\n",
    "                continue\n",
    "On tigger_stop_key:\n",
    "    release W + Shift\n",
    "    stop loop"
   ]
  },
  {
   "cell_type": "code",
   "execution_count": null,
   "id": "adf966d9",
   "metadata": {},
   "outputs": [],
   "source": [
    "#screenshoting\n",
    "import pyautogui \n",
    "#image processing\n",
    "import os\n",
    "from PIL import Image\n",
    "from pytesseract import pytesseract\n",
    "#calling the function to start\n",
    "import threading\n",
    "#macroing\n",
    "import time\n",
    "import pydirectinput\n",
    "#taking inputs\n",
    "from pynput import keyboard\n",
    "#mouse movements require MouseKeys in OS, Controls -> Mouse Settings -> Raw Input: OFF"
   ]
  },
  {
   "cell_type": "code",
   "execution_count": null,
   "id": "7f20c1c6",
   "metadata": {},
   "outputs": [],
   "source": [
    "#Define path to tessaract.exe\n",
    "path_to_tesseract = r'C:\\Program Files\\Tesseract-OCR\\tesseract.exe'\n",
    "#Define path to image\n",
    "screenshot_path = r'screenshots/screen.png'\n",
    "#Point tessaract_cmd to tessaract.exe\n",
    "pytesseract.tesseract_cmd = path_to_tesseract\n",
    "#identify screen region containing subtitles\n",
    "reg = (1693,856,1920,982)\n",
    "\n",
    "def ReadScreen():\n",
    "    #take screenshot with pyautogui\n",
    "    sc = pyautogui.screenshot(region=reg)\n",
    "    \n",
    "    #sc.save(screenshot_path) #turns out saving+loading image not necessary, stored by pyautogui.screenshot and read by pytesseract in Python Imaging Library format. Use for debugging.\n",
    "    #Open image with PIL\n",
    "    #img = Image.open(screenshot_path)\n",
    "    #Extract text from image\n",
    "    \n",
    "    text = pytesseract.image_to_string(sc)\n",
    "    return text"
   ]
  },
  {
   "cell_type": "code",
   "execution_count": null,
   "id": "f62a843e",
   "metadata": {},
   "outputs": [],
   "source": [
    "#main loop\n",
    "def fish():\n",
    "    global running\n",
    "    pydirectinput.keyDown('shift') #shift-walk forward the whole time to counteract knockback from sea creatures\n",
    "    pydirectinput.keyDown('w')\n",
    "    \n",
    "    while running:\n",
    "        \n",
    "        \n",
    "        pydirectinput.click(button='right') #cast fishing rod\n",
    "        time.sleep(4) #wait for first \"splashing\" to fade out\n",
    "        nosplash = True\n",
    "        while nosplash: #continually read subtitles for splash\n",
    "            text = ReadScreen()\n",
    "            if \"Splashing\" in text: #if \"splashing\" found,continue to next part of loop\n",
    "                nosplash = False\n",
    "        pydirectinput.click(button='right') #retract fishing rod\n",
    "        time.sleep(0.2) #wait a short time before casting again\n",
    "     \n",
    "    pydirectinput.keyUp('w')\n",
    "    pydirectinput.keyUp('shift') #end shift-walking\n",
    "    return"
   ]
  },
  {
   "cell_type": "code",
   "execution_count": null,
   "id": "68029e7f",
   "metadata": {},
   "outputs": [],
   "source": [
    "#function to check presses and toggle a thread with fish()\n",
    "def on_press(key):\n",
    "    global running\n",
    "    if key == keyboard.KeyCode(vk=None, char='f'):\n",
    "        running ^= True #toggle running on pressing 'f'\n",
    "        if running: #start fish() if now running = True ( fish() stopped if now running = False by while statement in fish() )\n",
    "            t = threading.Thread(target=fish)\n",
    "            t.start()\n",
    "        else:\n",
    "            t = threading.Thread(target=fish)\n",
    "            t.end()\n",
    "    return\n",
    "            \n",
    "def on_release(key):\n",
    "    return"
   ]
  },
  {
   "cell_type": "code",
   "execution_count": null,
   "id": "194dc936",
   "metadata": {},
   "outputs": [],
   "source": [
    "#runner\n",
    "\n",
    "running = False #default to off so you're not jumped when you start the script\n",
    "with keyboard.Listener(on_press=on_press, on_release=on_release) as listener: #setup the listener\n",
    "    listener.join() #run the listener, which itself toggles the script"
   ]
  },
  {
   "cell_type": "code",
   "execution_count": null,
   "id": "eb0116ce",
   "metadata": {},
   "outputs": [],
   "source": []
  }
 ],
 "metadata": {
  "kernelspec": {
   "display_name": "Python 3 (ipykernel)",
   "language": "python",
   "name": "python3"
  },
  "language_info": {
   "codemirror_mode": {
    "name": "ipython",
    "version": 3
   },
   "file_extension": ".py",
   "mimetype": "text/x-python",
   "name": "python",
   "nbconvert_exporter": "python",
   "pygments_lexer": "ipython3",
   "version": "3.9.12"
  }
 },
 "nbformat": 4,
 "nbformat_minor": 5
}
